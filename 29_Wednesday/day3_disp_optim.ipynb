{
 "cells": [
  {
   "cell_type": "markdown",
   "metadata": {},
   "source": [
    "Example revisting dispersion matching, this time with an optimizer"
   ]
  },
  {
   "cell_type": "code",
   "execution_count": 4,
   "metadata": {},
   "outputs": [],
   "source": [
    "import numpy as np\n",
    "#import minimize if you plan to use it.\n",
    "from scipy.optimize import minimize\n",
    "\n",
    "rho = 30\n",
    "th = np.pi/24.0"
   ]
  },
  {
   "cell_type": "markdown",
   "metadata": {},
   "source": [
    "This function takes the parameters as input and returns a quantity to be minimized\n",
    "\n",
    "In this case, the fit parameter will control the matrix properties\n",
    "\n",
    "There return value will be the magnitude of dispersion at the end."
   ]
  },
  {
   "cell_type": "code",
   "execution_count": 5,
   "metadata": {},
   "outputs": [],
   "source": [
    "def DispMatch(fparam):\n",
    "  #doesn't matter if I pass negative values, only positive values will be used.\n",
    "  f1 = np.abs(fparam[0])\n",
    "  f2 = np.abs(fparam[1])\n",
    "  L1 = np.abs(fparam[2])\n",
    "  L2 = np.abs(fparam[3])\n",
    "  #Dispersion matrices\n",
    "  QF = np.matrix([[1, 0, 0], [-1/f1, 1, 0], [0, 0, 1]])\n",
    "  QD = np.matrix([[1, 0, 0], [-1/f2, 1, 0], [0, 0, 1]])\n",
    "  O1 = np.matrix([[1, L1, 0], [0, 1, 0], [0, 0, 1]])\n",
    "  O2 = np.matrix([[1, L2, 0], [0, 1, 0], [0, 0, 1]])\n",
    "  B = np.matrix([[np.cos(th), rho*np.sin(th), rho*(1-np.cos(th))], [-np.sin(th)/rho, np.cos(th), np.sin(th)], [0, 0, 1]])\n",
    "  #Achromat has a quad-triplet in the center.\n",
    "  M=B*O1*QD*O2*QF*O2*QD*O1*B\n",
    "  #zero dispersion vector\n",
    "  Din = np.matrix([0,0,1]).T\n",
    "  #outgoing dispersion vector \n",
    "  Dout=M*Din\n",
    "  #this quantity should be minimized\n",
    "  #I don't need to take the sqrt, because that would be minimizing the same thing\n",
    "  objective = np.sum(np.array(Dout-Din)**2)\n",
    "  return objective\n"
   ]
  },
  {
   "cell_type": "markdown",
   "metadata": {},
   "source": [
    "Optimizer"
   ]
  },
  {
   "cell_type": "markdown",
   "metadata": {},
   "source": [
    "This is my best guess for starting values.\n",
    "\n",
    "In the previous exercise f1=0.5*L1 + 0.25*rho*th, which is about 1.5 if L1 is 1.\n",
    "\n",
    "But now instead of L1 we now have L1+L2 for length, so let's make it L1=0.5 and L2=0.5\n",
    "\n",
    "There should be a solution for a weak QD, so lets start with double f1 for f2."
   ]
  },
  {
   "cell_type": "code",
   "execution_count": 6,
   "metadata": {},
   "outputs": [],
   "source": [
    "param0 = [1.5, 3.0, 0.5, 0.5]\n",
    "#define upper and lower bounds for each parameter\n",
    "bnds = ((0.0, 10.0), (0.0, 10.0), (0.2, 5.0), (0.2, 5.0))"
   ]
  },
  {
   "cell_type": "markdown",
   "metadata": {},
   "source": [
    "This statement starts the minimization"
   ]
  },
  {
   "cell_type": "code",
   "execution_count": 7,
   "metadata": {},
   "outputs": [
    {
     "name": "stdout",
     "output_type": "stream",
     "text": [
      " message: Converged (|f_n-f_(n-1)| ~= 0)\n",
      " success: True\n",
      "  status: 1\n",
      "     fun: 1.4095666689886406e-19\n",
      "       x: [ 2.319e+00  4.531e+00  2.759e-01  2.004e-01]\n",
      "     nit: 6\n",
      "     jac: [ 4.160e-10  4.982e-11  2.663e-09  2.420e-10]\n",
      "    nfev: 125\n"
     ]
    }
   ],
   "source": [
    "#uses TNC method of minimizing, not all methods use bounds but this one does.\n",
    "res = minimize(DispMatch, param0, method='TNC', bounds=bnds, options={'disp': True})\n",
    "print(res)"
   ]
  },
  {
   "cell_type": "code",
   "execution_count": 8,
   "metadata": {},
   "outputs": [],
   "source": [
    "#because I used bounds, I don't have any negative values in here, but this is how I would fix it if I did.\n",
    "#you can only do this safely when you also take the absolute value in the function itself\n",
    "res.x[0] = np.abs(res.x[0])\n",
    "res.x[1] = np.abs(res.x[1])\n",
    "res.x[2] = np.abs(res.x[2])\n",
    "res.x[3] = np.abs(res.x[3])"
   ]
  },
  {
   "cell_type": "code",
   "execution_count": 9,
   "metadata": {},
   "outputs": [
    {
     "name": "stdout",
     "output_type": "stream",
     "text": [
      "Dispersion was matched to the level of 1.4096e-19\n",
      "Parameters: f1=2.32, f2=4.53, L1=0.28, L2=0.2\n"
     ]
    }
   ],
   "source": [
    "#res.fun gives the final value of the objective function\n",
    "#I'm used .format instead of string so I can round scientific notation.\n",
    "print('Dispersion was matched to the level of ' + \"{:.4e}\".format(res.fun))\n",
    "\n",
    "#res.x gives an array of the parameter values\n",
    "print('Parameters: f1=' + str(np.round(res.x[0],2)) + ', f2=' + str(np.round(res.x[1],2)) + ', L1=' + str(np.round(res.x[2],2)) + ', L2=' + str(np.round(res.x[3],2)))"
   ]
  }
 ],
 "metadata": {
  "kernelspec": {
   "display_name": "Python 3",
   "language": "python",
   "name": "python3"
  },
  "language_info": {
   "codemirror_mode": {
    "name": "ipython",
    "version": 3
   },
   "file_extension": ".py",
   "mimetype": "text/x-python",
   "name": "python",
   "nbconvert_exporter": "python",
   "pygments_lexer": "ipython3",
   "version": "3.11.9"
  }
 },
 "nbformat": 4,
 "nbformat_minor": 2
}

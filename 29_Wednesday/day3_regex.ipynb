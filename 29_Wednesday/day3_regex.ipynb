{
 "cells": [
  {
   "cell_type": "markdown",
   "metadata": {},
   "source": [
    "Examples of regular expressions"
   ]
  },
  {
   "cell_type": "code",
   "execution_count": 1,
   "metadata": {},
   "outputs": [],
   "source": [
    "import re\n",
    "import pandas as pd"
   ]
  },
  {
   "cell_type": "markdown",
   "metadata": {},
   "source": [
    "Generic String Handling"
   ]
  },
  {
   "cell_type": "code",
   "execution_count": 2,
   "metadata": {},
   "outputs": [
    {
     "name": "stdout",
     "output_type": "stream",
     "text": [
      "H\n",
      "W\n"
     ]
    }
   ],
   "source": [
    "#strings have indices which indicates specific characters.\n",
    "txt = \"Hello World!\"\n",
    "print(txt[0])\n",
    "print(txt[6])"
   ]
  },
  {
   "cell_type": "code",
   "execution_count": 3,
   "metadata": {},
   "outputs": [
    {
     "name": "stdout",
     "output_type": "stream",
     "text": [
      "6\n",
      "World\n",
      "would\n"
     ]
    }
   ],
   "source": [
    "#The find method returns the first instance of a character\n",
    "txt = \"Hello World! What would you like to do today?\"\n",
    "dex = txt.find('W')\n",
    "print(dex)\n",
    "print(txt[dex:(dex+5)])\n",
    "#and find is case-sensitive\n",
    "dex = txt.find('w')\n",
    "print(txt[dex:(dex+5)])"
   ]
  },
  {
   "cell_type": "code",
   "execution_count": 4,
   "metadata": {},
   "outputs": [
    {
     "name": "stdout",
     "output_type": "stream",
     "text": [
      "['Hello World', ' What would you like to do today?']\n",
      "Hello World\n",
      " What would you like to do today?\n"
     ]
    }
   ],
   "source": [
    "#The split methods creates a list delimited by the split string.\n",
    "txt = \"Hello World! What would you like to do today?\"\n",
    "stxt = txt.split('!')\n",
    "print(stxt)\n",
    "print(stxt[0])\n",
    "print(stxt[1])\n",
    "#notice the '!' character does not appear in either part."
   ]
  },
  {
   "cell_type": "code",
   "execution_count": 5,
   "metadata": {},
   "outputs": [
    {
     "name": "stdout",
     "output_type": "stream",
     "text": [
      "10\n",
      "20\n",
      "30\n",
      "40\n",
      "50\n"
     ]
    }
   ],
   "source": [
    "#split can create longer lists with more delimiters.\n",
    "txt = \"1 baa 2 baa 3 baa 4 baa 5\"\n",
    "stxt = txt.split(' baa ')\n",
    "for lp in range(len(stxt)):\n",
    "  print(10*int(stxt[lp]))"
   ]
  },
  {
   "cell_type": "markdown",
   "metadata": {},
   "source": [
    "Regular Expressions\n",
    "\n",
    "Regular expressions allow for much more elaborate search criteria"
   ]
  },
  {
   "cell_type": "code",
   "execution_count": 6,
   "metadata": {},
   "outputs": [
    {
     "name": "stdout",
     "output_type": "stream",
     "text": [
      "['1 ', ' 2 ', ' 3 ', ' 4 ', ' 5']\n",
      "['1', 'ba', '2', 'baa', '3', 'baaa', '4', 'baaaa', '5']\n"
     ]
    }
   ],
   "source": [
    "#split is still available as a re method\n",
    "#+ means one or more of the preceeding character\n",
    "#* means zero or more of the preceeding character\n",
    "txt = \"1 ba 2 baa 3 baaa 4 baaaa 5\"\n",
    "stxt = re.split(r\"ba+\",txt)\n",
    "print(stxt)\n",
    "#\\s is an escape character for a space.\n",
    "stxt = re.split(r\"\\s\",txt)\n",
    "print(stxt)"
   ]
  },
  {
   "cell_type": "code",
   "execution_count": 7,
   "metadata": {},
   "outputs": [
    {
     "name": "stdout",
     "output_type": "stream",
     "text": [
      "3.14159\n",
      "20\n",
      "27\n",
      "3.14159\n"
     ]
    }
   ],
   "source": [
    "#in place of find, re uses search.start and search.end\n",
    "#\\d means any numerical digit\n",
    "#\\. is an escape character for .\n",
    "#? means zero or one preceeding character.\n",
    "txt = \"pi is approximately 3.14159, if you want more digits than just 3 or 3.14.\"\n",
    "#look for an integer or decimal number\n",
    "m_obj = re.search(r\"\\d\\.?\\d*\",txt)\n",
    "print(m_obj.group())\n",
    "print(m_obj.start())\n",
    "print(m_obj.end())\n",
    "print(txt[m_obj.start():m_obj.end()])"
   ]
  },
  {
   "cell_type": "code",
   "execution_count": 8,
   "metadata": {},
   "outputs": [
    {
     "name": "stdout",
     "output_type": "stream",
     "text": [
      "['3.14159', '3', '3.14']\n"
     ]
    }
   ],
   "source": [
    "#findall shows all strings that match\n",
    "#[] means any one of the characters in the bracket\n",
    "txt = \"pi is approximately 3.14159, if you want more digits than just 3 or 3.14.\"\n",
    "ftxt = re.findall(r\"[0-9]\\.?[0-9]*\",txt)\n",
    "print(ftxt)"
   ]
  },
  {
   "cell_type": "markdown",
   "metadata": {},
   "source": [
    "More examples"
   ]
  },
  {
   "cell_type": "code",
   "execution_count": 9,
   "metadata": {},
   "outputs": [
    {
     "name": "stdout",
     "output_type": "stream",
     "text": [
      "['you']\n",
      "['pi is approximately 3.14159, if y']\n"
     ]
    }
   ],
   "source": [
    "#. matches any character\n",
    "txt = \"pi is approximately 3.14159, if you want more digits than just 3 or 3.14.\"\n",
    "print(re.findall(r\"y.u\",txt))\n",
    "#if there is ambiguity, it will find the longer matche\n",
    "print(re.findall(r\"p.*y\",txt))\n"
   ]
  },
  {
   "cell_type": "code",
   "execution_count": 10,
   "metadata": {},
   "outputs": [
    {
     "name": "stdout",
     "output_type": "stream",
     "text": [
      "['ou', 'ou', 'oo', 'ei', 'ie', 'oi']\n"
     ]
    }
   ],
   "source": [
    "#[] means any one of the characters in the bracket\n",
    "#{2} means exactly 2 of something\n",
    "txt = \"Would you look at protein yield of the boiled egg?\"\n",
    "print(re.findall(r\"[aeiou]{2}\",txt))"
   ]
  },
  {
   "cell_type": "code",
   "execution_count": 11,
   "metadata": {},
   "outputs": [
    {
     "name": "stdout",
     "output_type": "stream",
     "text": [
      "['Wou', 'you', 'loo', 'yie', 'boi']\n",
      "['Would', 'you', 'look', 'protein', 'yield', 'boiled']\n"
     ]
    }
   ],
   "source": [
    "#\\b means beginning of a word (boundary of alphanumeric and otherwise)\n",
    "print(re.findall(r\"\\b.[aeiou]{2}\",txt))\n",
    "\n",
    "#\\w means any alphanumeric\n",
    "#this expression will find the full word with the double vowel.\n",
    "print(re.findall(r\"\\w*[aeiou]{2}\\w*\",txt))\n"
   ]
  },
  {
   "cell_type": "code",
   "execution_count": 12,
   "metadata": {},
   "outputs": [
    {
     "name": "stdout",
     "output_type": "stream",
     "text": [
      "['Wou', 'you', 'egg']\n",
      "['Wou', 'you', 'loo', 'tei', 'yie', 'boi']\n",
      "['loo', 'tei', 'boi']\n"
     ]
    }
   ],
   "source": [
    "#| means either\n",
    "txt = \"Would you look at protein yield of the boiled egg?\"\n",
    "print(re.findall(r\".ou|.gg\",txt))\n",
    "\n",
    "#[^yW] means any character except y or W\n",
    "txt = \"Would you look at protein yield of the boiled egg?\"\n",
    "print(re.findall(r\".[aeiou]{2}\",txt))\n",
    "print(re.findall(r\"[^yW][aeiou]{2}\",txt))"
   ]
  },
  {
   "cell_type": "markdown",
   "metadata": {},
   "source": [
    "Regular Expressions can also be used with pandas"
   ]
  },
  {
   "cell_type": "code",
   "execution_count": 14,
   "metadata": {},
   "outputs": [
    {
     "name": "stdout",
     "output_type": "stream",
     "text": [
      "   Text  Cost\n",
      "0  eggs   6.2\n",
      "1  milk   3.7\n",
      "2  oats   0.7\n",
      "Index(['Text', 'Cost'], dtype='object')\n",
      "Text    eggs\n",
      "Cost     6.2\n",
      "Name: 0, dtype: object\n"
     ]
    }
   ],
   "source": [
    "#load a simple pandas dataframe\n",
    "df = pd.DataFrame({'Text': ['eggs', 'milk', 'oats'], 'Cost': [6.20, 3.70, 0.70]})\n",
    "print(df)\n",
    "print(df.columns)\n",
    "print(df.iloc[0])"
   ]
  },
  {
   "cell_type": "code",
   "execution_count": 15,
   "metadata": {},
   "outputs": [
    {
     "name": "stdout",
     "output_type": "stream",
     "text": [
      "0     True\n",
      "1    False\n",
      "2     True\n",
      "Name: Text, dtype: bool\n",
      "0    6.2\n",
      "2    0.7\n",
      "Name: Cost, dtype: float64\n",
      "6.9\n"
     ]
    }
   ],
   "source": [
    "#find the rows with gg or oa in Text\n",
    "dex = df['Text'].str.contains(r\"gg|oa\", regex=True)\n",
    "print(dex)\n",
    "#find the corresponding costs values for those rows\n",
    "print(df['Cost'][dex])\n",
    "#sum the corresponding cost calues for those rows\n",
    "print(df['Cost'][dex].sum())"
   ]
  }
 ],
 "metadata": {
  "kernelspec": {
   "display_name": "Python 3",
   "language": "python",
   "name": "python3"
  },
  "language_info": {
   "codemirror_mode": {
    "name": "ipython",
    "version": 3
   },
   "file_extension": ".py",
   "mimetype": "text/x-python",
   "name": "python",
   "nbconvert_exporter": "python",
   "pygments_lexer": "ipython3",
   "version": "3.11.9"
  }
 },
 "nbformat": 4,
 "nbformat_minor": 2
}

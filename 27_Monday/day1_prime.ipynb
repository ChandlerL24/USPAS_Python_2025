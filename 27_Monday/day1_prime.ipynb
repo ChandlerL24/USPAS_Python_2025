{
 "cells": [
  {
   "cell_type": "markdown",
   "metadata": {},
   "source": [
    "Example of a script that finds and prints all the prime numbers between 1 and 100"
   ]
  },
  {
   "cell_type": "code",
   "execution_count": 1,
   "metadata": {},
   "outputs": [
    {
     "name": "stdout",
     "output_type": "stream",
     "text": [
      "1\n",
      "2\n",
      "3\n",
      "5\n",
      "7\n",
      "11\n",
      "13\n",
      "17\n",
      "19\n",
      "23\n",
      "29\n",
      "31\n",
      "37\n",
      "41\n",
      "43\n",
      "47\n",
      "53\n",
      "59\n",
      "61\n",
      "67\n",
      "71\n",
      "73\n",
      "79\n",
      "83\n",
      "89\n",
      "97\n"
     ]
    }
   ],
   "source": [
    "#loop through all numbers 1 to 100 (starts at 1 ends at 100)\n",
    "for lp in range(1,101):\n",
    "    #create a variable that keeps track of whether lp is prime\n",
    "    #assume lp is prime until proven otherwise\n",
    "    prime_flag = 1\n",
    "    #check whether lp is prime by checking if it is divisible by any number 2 to lp-1\n",
    "    #use a 'while' loop, rather than a 'for' loop, so that we can stop checking if we find lp is not prime. \n",
    "    lp2 = 2\n",
    "    while (lp2 < lp and prime_flag == 1):\n",
    "        #is lp evenly divisible by lp2?\n",
    "        #int truncates the remainder, so we can use that to check for a remainder\n",
    "        if (lp/lp2 == int(lp/lp2)):\n",
    "            prime_flag = 0\n",
    "        \n",
    "        #at the end of the 'while' loop, iterate lp2 because it doesn't happen automatically.\n",
    "        lp2 = lp2 + 1\n",
    "    \n",
    "    #print if lp is prime (after checking all the numbers)\n",
    "    if (prime_flag == 1):\n",
    "        print(lp)\n",
    "\n",
    "#end of program\n"
   ]
  }
 ],
 "metadata": {
  "kernelspec": {
   "display_name": "Python 3",
   "language": "python",
   "name": "python3"
  },
  "language_info": {
   "codemirror_mode": {
    "name": "ipython",
    "version": 3
   },
   "file_extension": ".py",
   "mimetype": "text/x-python",
   "name": "python",
   "nbconvert_exporter": "python",
   "pygments_lexer": "ipython3",
   "version": "3.11.9"
  }
 },
 "nbformat": 4,
 "nbformat_minor": 2
}

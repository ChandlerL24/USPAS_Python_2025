{
 "cells": [
  {
   "cell_type": "markdown",
   "metadata": {},
   "source": [
    "Example of a script the converts angles in radians to degrees and back\n",
    "\n",
    "First define the functions"
   ]
  },
  {
   "cell_type": "code",
   "execution_count": 2,
   "metadata": {},
   "outputs": [],
   "source": [
    "#imports numpy package, and now we refer to it as np\n",
    "import numpy as np\n",
    "\n",
    "#defines a function which take deg as an argument\n",
    "def deg2rad(deg):\n",
    "    temp = deg/180.0\n",
    "    #use numpy's numerical estimate of pi\n",
    "    temp = temp*np.pi\n",
    "    #use numpy's rounding method\n",
    "    #round to the nearest three decimal places\n",
    "    temp = np.round(temp,3)\n",
    "    return temp\n",
    "\n",
    "#defines a function, takes rad as an argument\n",
    "def rad2deg(rad):\n",
    "    #I can do it all on one line if I want\n",
    "    #round to the nearest tenth degree\n",
    "    return np.round(rad*180.0/np.pi,1) "
   ]
  },
  {
   "cell_type": "markdown",
   "metadata": {},
   "source": [
    "Now the main program actually starts"
   ]
  },
  {
   "cell_type": "code",
   "execution_count": 3,
   "metadata": {},
   "outputs": [
    {
     "name": "stdout",
     "output_type": "stream",
     "text": [
      "Converting 0.0 radians into 0.0 degrees.\n",
      "Converting 0.785 radians into 45.0 degrees.\n",
      "Converting 1.571 radians into 90.0 degrees.\n",
      "Converting 2.356 radians into 135.0 degrees.\n"
     ]
    }
   ],
   "source": [
    "#define a sequence of angles in radian\n",
    "ang_list = np.array([0, 0.25, 0.5, 0.75])*np.pi\n",
    "ang_list = np.round(ang_list,3)\n",
    "ang_list_num = len(ang_list)\n",
    "\n",
    "#loop through the list of angles\n",
    "for lp in range(ang_list_num):\n",
    "    #ang_rad is the element in the list corresponding to lp\n",
    "    ang_rad = ang_list[lp]\n",
    "    #ang_deg is found by converting ang_rad\n",
    "    ang_deg = rad2deg(ang_rad)\n",
    "    print (\"Converting \" + str(ang_rad) + \" radians into \" + str(ang_deg) + \" degrees.\")"
   ]
  },
  {
   "cell_type": "markdown",
   "metadata": {},
   "source": [
    "Here is another way to do a loop, use the angle as the loop variable"
   ]
  },
  {
   "cell_type": "code",
   "execution_count": 4,
   "metadata": {},
   "outputs": [
    {
     "name": "stdout",
     "output_type": "stream",
     "text": [
      "Converting 0 degrees into 0.0 radians.\n",
      "Converting 30 degrees into 0.524 radians.\n",
      "Converting 60 degrees into 1.047 radians.\n",
      "Converting 90 degrees into 1.571 radians.\n"
     ]
    }
   ],
   "source": [
    "#specify how much the angle will increase each loop\n",
    "ang_deg = 0\n",
    "ang_itr = 30\n",
    "ang_max = 100\n",
    "\n",
    "#loop until max is exceeded\n",
    "while (ang_deg < ang_max):\n",
    "    #we already have the first value of ang_deg\n",
    "    #ang_rad is found by converting ang_deg\n",
    "    ang_rad = deg2rad(ang_deg)\n",
    "    print (\"Converting \" + str(ang_deg) + \" degrees into \" + str(ang_rad) + \" radians.\")\n",
    "    #increase the value of ang_deg for the next loop\n",
    "    ang_deg = ang_deg + ang_itr\n"
   ]
  }
 ],
 "metadata": {
  "kernelspec": {
   "display_name": "Python 3",
   "language": "python",
   "name": "python3"
  },
  "language_info": {
   "codemirror_mode": {
    "name": "ipython",
    "version": 3
   },
   "file_extension": ".py",
   "mimetype": "text/x-python",
   "name": "python",
   "nbconvert_exporter": "python",
   "pygments_lexer": "ipython3",
   "version": "3.11.9"
  }
 },
 "nbformat": 4,
 "nbformat_minor": 2
}
